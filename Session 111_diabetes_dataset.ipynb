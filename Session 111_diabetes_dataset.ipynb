{
 "cells": [
  {
   "cell_type": "code",
   "execution_count": null,
   "id": "satellite-municipality",
   "metadata": {},
   "outputs": [],
   "source": [
    "# https://raw.githubusercontent.com/jbrownlee/Datasets/master/pima-indians-diabetes.data.csv\n",
    "import pandas as pd"
   ]
  },
  {
   "cell_type": "code",
   "execution_count": null,
   "id": "contemporary-girlfriend",
   "metadata": {},
   "outputs": [],
   "source": [
    "dataset = pd.read_csv('pima-indians-diabetes.data.csv', header = None)"
   ]
  },
  {
   "cell_type": "code",
   "execution_count": null,
   "id": "celtic-copper",
   "metadata": {},
   "outputs": [],
   "source": [
    "dataset.info()"
   ]
  },
  {
   "cell_type": "code",
   "execution_count": null,
   "id": "thousand-artist",
   "metadata": {
    "scrolled": true
   },
   "outputs": [],
   "source": [
    "dataset.head(2)"
   ]
  },
  {
   "cell_type": "code",
   "execution_count": null,
   "id": "naked-singles",
   "metadata": {},
   "outputs": [],
   "source": [
    "y = dataset[8]"
   ]
  },
  {
   "cell_type": "code",
   "execution_count": null,
   "id": "fundamental-northeast",
   "metadata": {},
   "outputs": [],
   "source": [
    "dataset.columns"
   ]
  },
  {
   "cell_type": "code",
   "execution_count": null,
   "id": "endangered-illness",
   "metadata": {},
   "outputs": [],
   "source": [
    "X = dataset[ [0, 1, 2, 3, 4, 5, 6, 7] ]"
   ]
  },
  {
   "cell_type": "code",
   "execution_count": null,
   "id": "compressed-skirt",
   "metadata": {},
   "outputs": [],
   "source": [
    "from keras.models import Sequential"
   ]
  },
  {
   "cell_type": "code",
   "execution_count": null,
   "id": "spatial-serial",
   "metadata": {},
   "outputs": [],
   "source": [
    "from keras.layers import Dense"
   ]
  },
  {
   "cell_type": "code",
   "execution_count": 10,
   "id": "drawn-deadline",
   "metadata": {},
   "outputs": [],
   "source": [
    "from keras.optimizers import Adam"
   ]
  },
  {
   "cell_type": "code",
   "execution_count": 11,
   "id": "terminal-atlanta",
   "metadata": {},
   "outputs": [],
   "source": [
    "model = Sequential()"
   ]
  },
  {
   "cell_type": "code",
   "execution_count": 12,
   "id": "exclusive-interference",
   "metadata": {},
   "outputs": [],
   "source": [
    "model.add( Dense(units=12, input_dim=8, activation='relu') )"
   ]
  },
  {
   "cell_type": "code",
   "execution_count": 13,
   "id": "potential-client",
   "metadata": {},
   "outputs": [
    {
     "name": "stdout",
     "output_type": "stream",
     "text": [
      "Model: \"sequential\"\n",
      "_________________________________________________________________\n",
      "Layer (type)                 Output Shape              Param #   \n",
      "=================================================================\n",
      "dense (Dense)                (None, 12)                108       \n",
      "=================================================================\n",
      "Total params: 108\n",
      "Trainable params: 108\n",
      "Non-trainable params: 0\n",
      "_________________________________________________________________\n"
     ]
    }
   ],
   "source": [
    "model.summary()"
   ]
  },
  {
   "cell_type": "code",
   "execution_count": 14,
   "id": "little-toddler",
   "metadata": {},
   "outputs": [],
   "source": [
    "model.add(Dense(units=8, activation='relu'))"
   ]
  },
  {
   "cell_type": "code",
   "execution_count": 15,
   "id": "saving-championship",
   "metadata": {},
   "outputs": [
    {
     "name": "stdout",
     "output_type": "stream",
     "text": [
      "Model: \"sequential\"\n",
      "_________________________________________________________________\n",
      "Layer (type)                 Output Shape              Param #   \n",
      "=================================================================\n",
      "dense (Dense)                (None, 12)                108       \n",
      "_________________________________________________________________\n",
      "dense_1 (Dense)              (None, 8)                 104       \n",
      "=================================================================\n",
      "Total params: 212\n",
      "Trainable params: 212\n",
      "Non-trainable params: 0\n",
      "_________________________________________________________________\n"
     ]
    }
   ],
   "source": [
    "model.summary()"
   ]
  },
  {
   "cell_type": "code",
   "execution_count": 16,
   "id": "stock-masters",
   "metadata": {},
   "outputs": [],
   "source": [
    "model.add(Dense(units=1, activation='sigmoid'))"
   ]
  },
  {
   "cell_type": "code",
   "execution_count": 17,
   "id": "earned-paradise",
   "metadata": {},
   "outputs": [
    {
     "name": "stdout",
     "output_type": "stream",
     "text": [
      "Model: \"sequential\"\n",
      "_________________________________________________________________\n",
      "Layer (type)                 Output Shape              Param #   \n",
      "=================================================================\n",
      "dense (Dense)                (None, 12)                108       \n",
      "_________________________________________________________________\n",
      "dense_1 (Dense)              (None, 8)                 104       \n",
      "_________________________________________________________________\n",
      "dense_2 (Dense)              (None, 1)                 9         \n",
      "=================================================================\n",
      "Total params: 221\n",
      "Trainable params: 221\n",
      "Non-trainable params: 0\n",
      "_________________________________________________________________\n"
     ]
    }
   ],
   "source": [
    "model.summary()"
   ]
  },
  {
   "cell_type": "code",
   "execution_count": 18,
   "id": "intelligent-township",
   "metadata": {},
   "outputs": [],
   "source": [
    "model.compile(loss='binary_crossentropy', optimizer='adam', metrics=['accuracy'])"
   ]
  },
  {
   "cell_type": "code",
   "execution_count": 19,
   "id": "explicit-found",
   "metadata": {},
   "outputs": [
    {
     "name": "stdout",
     "output_type": "stream",
     "text": [
      "Epoch 1/160\n",
      "24/24 [==============================] - 0s 3ms/step - loss: 2.1511 - accuracy: 0.5000\n",
      "Epoch 2/160\n",
      "24/24 [==============================] - 0s 3ms/step - loss: 1.6062 - accuracy: 0.5208\n",
      "Epoch 3/160\n",
      "24/24 [==============================] - 0s 981us/step - loss: 1.3002 - accuracy: 0.5391\n",
      "Epoch 4/160\n",
      "24/24 [==============================] - 0s 840us/step - loss: 1.0819 - accuracy: 0.5651\n",
      "Epoch 5/160\n",
      "24/24 [==============================] - 0s 2ms/step - loss: 0.9429 - accuracy: 0.6055\n",
      "Epoch 6/160\n",
      "24/24 [==============================] - 0s 1ms/step - loss: 0.8611 - accuracy: 0.6289\n",
      "Epoch 7/160\n",
      "24/24 [==============================] - 0s 843us/step - loss: 0.7990 - accuracy: 0.6471\n",
      "Epoch 8/160\n",
      "24/24 [==============================] - 0s 1ms/step - loss: 0.7683 - accuracy: 0.6367\n",
      "Epoch 9/160\n",
      "24/24 [==============================] - 0s 880us/step - loss: 0.7422 - accuracy: 0.6589\n",
      "Epoch 10/160\n",
      "24/24 [==============================] - 0s 2ms/step - loss: 0.7071 - accuracy: 0.6562\n",
      "Epoch 11/160\n",
      "24/24 [==============================] - 0s 1ms/step - loss: 0.7004 - accuracy: 0.6680\n",
      "Epoch 12/160\n",
      "24/24 [==============================] - 0s 770us/step - loss: 0.6867 - accuracy: 0.6732\n",
      "Epoch 13/160\n",
      "24/24 [==============================] - 0s 1ms/step - loss: 0.6689 - accuracy: 0.6615\n",
      "Epoch 14/160\n",
      "24/24 [==============================] - 0s 1ms/step - loss: 0.6592 - accuracy: 0.6706\n",
      "Epoch 15/160\n",
      "24/24 [==============================] - 0s 1000us/step - loss: 0.6475 - accuracy: 0.6862\n",
      "Epoch 16/160\n",
      "24/24 [==============================] - 0s 1ms/step - loss: 0.6629 - accuracy: 0.6771\n",
      "Epoch 17/160\n",
      "24/24 [==============================] - 0s 3ms/step - loss: 0.6331 - accuracy: 0.6771\n",
      "Epoch 18/160\n",
      "24/24 [==============================] - 0s 865us/step - loss: 0.6257 - accuracy: 0.6927\n",
      "Epoch 19/160\n",
      "24/24 [==============================] - 0s 1ms/step - loss: 0.6301 - accuracy: 0.6953\n",
      "Epoch 20/160\n",
      "24/24 [==============================] - 0s 2ms/step - loss: 0.6286 - accuracy: 0.6732\n",
      "Epoch 21/160\n",
      "24/24 [==============================] - 0s 2ms/step - loss: 0.6160 - accuracy: 0.6914\n",
      "Epoch 22/160\n",
      "24/24 [==============================] - 0s 2ms/step - loss: 0.6111 - accuracy: 0.6966\n",
      "Epoch 23/160\n",
      "24/24 [==============================] - 0s 2ms/step - loss: 0.6195 - accuracy: 0.7005\n",
      "Epoch 24/160\n",
      "24/24 [==============================] - 0s 2ms/step - loss: 0.6099 - accuracy: 0.7005\n",
      "Epoch 25/160\n",
      "24/24 [==============================] - 0s 2ms/step - loss: 0.5996 - accuracy: 0.7005\n",
      "Epoch 26/160\n",
      "24/24 [==============================] - 0s 1ms/step - loss: 0.6084 - accuracy: 0.6953\n",
      "Epoch 27/160\n",
      "24/24 [==============================] - 0s 2ms/step - loss: 0.6051 - accuracy: 0.6953\n",
      "Epoch 28/160\n",
      "24/24 [==============================] - 0s 2ms/step - loss: 0.6136 - accuracy: 0.6966\n",
      "Epoch 29/160\n",
      "24/24 [==============================] - 0s 2ms/step - loss: 0.6113 - accuracy: 0.6901\n",
      "Epoch 30/160\n",
      "24/24 [==============================] - 0s 2ms/step - loss: 0.5967 - accuracy: 0.7044\n",
      "Epoch 31/160\n",
      "24/24 [==============================] - 0s 2ms/step - loss: 0.5914 - accuracy: 0.7122\n",
      "Epoch 32/160\n",
      "24/24 [==============================] - 0s 3ms/step - loss: 0.5936 - accuracy: 0.7083\n",
      "Epoch 33/160\n",
      "24/24 [==============================] - 0s 2ms/step - loss: 0.5906 - accuracy: 0.7044\n",
      "Epoch 34/160\n",
      "24/24 [==============================] - 0s 1ms/step - loss: 0.5935 - accuracy: 0.7109\n",
      "Epoch 35/160\n",
      "24/24 [==============================] - 0s 1ms/step - loss: 0.5851 - accuracy: 0.7096\n",
      "Epoch 36/160\n",
      "24/24 [==============================] - 0s 1ms/step - loss: 0.5883 - accuracy: 0.7109\n",
      "Epoch 37/160\n",
      "24/24 [==============================] - 0s 2ms/step - loss: 0.6172 - accuracy: 0.6875\n",
      "Epoch 38/160\n",
      "24/24 [==============================] - 0s 3ms/step - loss: 0.6163 - accuracy: 0.6849\n",
      "Epoch 39/160\n",
      "24/24 [==============================] - 0s 2ms/step - loss: 0.5848 - accuracy: 0.7083\n",
      "Epoch 40/160\n",
      "24/24 [==============================] - 0s 2ms/step - loss: 0.5929 - accuracy: 0.6862\n",
      "Epoch 41/160\n",
      "24/24 [==============================] - 0s 2ms/step - loss: 0.5888 - accuracy: 0.7122\n",
      "Epoch 42/160\n",
      "24/24 [==============================] - 0s 2ms/step - loss: 0.5921 - accuracy: 0.6979\n",
      "Epoch 43/160\n",
      "24/24 [==============================] - 0s 2ms/step - loss: 0.5833 - accuracy: 0.7253\n",
      "Epoch 44/160\n",
      "24/24 [==============================] - 0s 2ms/step - loss: 0.5711 - accuracy: 0.7188\n",
      "Epoch 45/160\n",
      "24/24 [==============================] - 0s 2ms/step - loss: 0.5804 - accuracy: 0.7018\n",
      "Epoch 46/160\n",
      "24/24 [==============================] - 0s 2ms/step - loss: 0.5790 - accuracy: 0.7057\n",
      "Epoch 47/160\n",
      "24/24 [==============================] - 0s 2ms/step - loss: 0.5841 - accuracy: 0.7083\n",
      "Epoch 48/160\n",
      "24/24 [==============================] - 0s 1ms/step - loss: 0.5822 - accuracy: 0.7044\n",
      "Epoch 49/160\n",
      "24/24 [==============================] - 0s 2ms/step - loss: 0.5770 - accuracy: 0.7057\n",
      "Epoch 50/160\n",
      "24/24 [==============================] - 0s 1ms/step - loss: 0.5879 - accuracy: 0.7031\n",
      "Epoch 51/160\n",
      "24/24 [==============================] - 0s 807us/step - loss: 0.6152 - accuracy: 0.7005\n",
      "Epoch 52/160\n",
      "24/24 [==============================] - 0s 885us/step - loss: 0.5772 - accuracy: 0.7109\n",
      "Epoch 53/160\n",
      "24/24 [==============================] - 0s 2ms/step - loss: 0.5784 - accuracy: 0.7057\n",
      "Epoch 54/160\n",
      "24/24 [==============================] - 0s 2ms/step - loss: 0.5675 - accuracy: 0.7109\n",
      "Epoch 55/160\n",
      "24/24 [==============================] - 0s 862us/step - loss: 0.5697 - accuracy: 0.7174\n",
      "Epoch 56/160\n",
      "24/24 [==============================] - 0s 960us/step - loss: 0.5686 - accuracy: 0.7161\n",
      "Epoch 57/160\n",
      "24/24 [==============================] - 0s 2ms/step - loss: 0.5627 - accuracy: 0.7214\n",
      "Epoch 58/160\n",
      "24/24 [==============================] - 0s 2ms/step - loss: 0.5718 - accuracy: 0.7279\n",
      "Epoch 59/160\n",
      "24/24 [==============================] - 0s 2ms/step - loss: 0.5833 - accuracy: 0.6992\n",
      "Epoch 60/160\n",
      "24/24 [==============================] - 0s 2ms/step - loss: 0.5616 - accuracy: 0.7096\n",
      "Epoch 61/160\n",
      "24/24 [==============================] - 0s 2ms/step - loss: 0.5637 - accuracy: 0.7161\n",
      "Epoch 62/160\n",
      "24/24 [==============================] - 0s 2ms/step - loss: 0.5655 - accuracy: 0.7214\n",
      "Epoch 63/160\n",
      "24/24 [==============================] - 0s 2ms/step - loss: 0.5610 - accuracy: 0.7083\n",
      "Epoch 64/160\n",
      "24/24 [==============================] - 0s 2ms/step - loss: 0.5597 - accuracy: 0.7096\n",
      "Epoch 65/160\n",
      "24/24 [==============================] - 0s 2ms/step - loss: 0.5692 - accuracy: 0.7253\n",
      "Epoch 66/160\n",
      "24/24 [==============================] - 0s 2ms/step - loss: 0.5637 - accuracy: 0.7135\n",
      "Epoch 67/160\n",
      "24/24 [==============================] - 0s 2ms/step - loss: 0.5623 - accuracy: 0.7122\n",
      "Epoch 68/160\n",
      "24/24 [==============================] - 0s 2ms/step - loss: 0.5614 - accuracy: 0.7253\n",
      "Epoch 69/160\n",
      "24/24 [==============================] - 0s 2ms/step - loss: 0.5611 - accuracy: 0.7292\n",
      "Epoch 70/160\n",
      "24/24 [==============================] - 0s 2ms/step - loss: 0.5681 - accuracy: 0.7109\n",
      "Epoch 71/160\n",
      "24/24 [==============================] - 0s 2ms/step - loss: 0.5565 - accuracy: 0.7240\n",
      "Epoch 72/160\n",
      "24/24 [==============================] - 0s 2ms/step - loss: 0.5523 - accuracy: 0.7240\n",
      "Epoch 73/160\n",
      "24/24 [==============================] - 0s 2ms/step - loss: 0.5610 - accuracy: 0.7122\n",
      "Epoch 74/160\n",
      "24/24 [==============================] - 0s 2ms/step - loss: 0.5579 - accuracy: 0.7357\n",
      "Epoch 75/160\n",
      "24/24 [==============================] - 0s 2ms/step - loss: 0.5732 - accuracy: 0.7031\n",
      "Epoch 76/160\n",
      "24/24 [==============================] - 0s 2ms/step - loss: 0.5633 - accuracy: 0.7135\n",
      "Epoch 77/160\n",
      "24/24 [==============================] - 0s 2ms/step - loss: 0.5549 - accuracy: 0.7174\n",
      "Epoch 78/160\n",
      "24/24 [==============================] - 0s 2ms/step - loss: 0.5516 - accuracy: 0.7396\n",
      "Epoch 79/160\n",
      "24/24 [==============================] - 0s 2ms/step - loss: 0.5455 - accuracy: 0.7253\n",
      "Epoch 80/160\n",
      "24/24 [==============================] - 0s 2ms/step - loss: 0.5515 - accuracy: 0.7292\n",
      "Epoch 81/160\n",
      "24/24 [==============================] - 0s 2ms/step - loss: 0.5483 - accuracy: 0.7331\n",
      "Epoch 82/160\n"
     ]
    },
    {
     "name": "stdout",
     "output_type": "stream",
     "text": [
      "24/24 [==============================] - 0s 2ms/step - loss: 0.5729 - accuracy: 0.7135\n",
      "Epoch 83/160\n",
      "24/24 [==============================] - 0s 2ms/step - loss: 0.5528 - accuracy: 0.7279\n",
      "Epoch 84/160\n",
      "24/24 [==============================] - 0s 2ms/step - loss: 0.5520 - accuracy: 0.7305\n",
      "Epoch 85/160\n",
      "24/24 [==============================] - 0s 3ms/step - loss: 0.5519 - accuracy: 0.7188\n",
      "Epoch 86/160\n",
      "24/24 [==============================] - 0s 3ms/step - loss: 0.5447 - accuracy: 0.7161\n",
      "Epoch 87/160\n",
      "24/24 [==============================] - 0s 2ms/step - loss: 0.5493 - accuracy: 0.7240\n",
      "Epoch 88/160\n",
      "24/24 [==============================] - 0s 836us/step - loss: 0.5514 - accuracy: 0.7266\n",
      "Epoch 89/160\n",
      "24/24 [==============================] - 0s 1ms/step - loss: 0.5451 - accuracy: 0.7318\n",
      "Epoch 90/160\n",
      "24/24 [==============================] - 0s 2ms/step - loss: 0.5433 - accuracy: 0.7318\n",
      "Epoch 91/160\n",
      "24/24 [==============================] - 0s 2ms/step - loss: 0.5427 - accuracy: 0.7240\n",
      "Epoch 92/160\n",
      "24/24 [==============================] - 0s 1ms/step - loss: 0.5448 - accuracy: 0.7253\n",
      "Epoch 93/160\n",
      "24/24 [==============================] - 0s 2ms/step - loss: 0.5522 - accuracy: 0.7214\n",
      "Epoch 94/160\n",
      "24/24 [==============================] - 0s 2ms/step - loss: 0.5548 - accuracy: 0.7357\n",
      "Epoch 95/160\n",
      "24/24 [==============================] - 0s 2ms/step - loss: 0.5417 - accuracy: 0.7188\n",
      "Epoch 96/160\n",
      "24/24 [==============================] - 0s 3ms/step - loss: 0.5561 - accuracy: 0.7279\n",
      "Epoch 97/160\n",
      "24/24 [==============================] - 0s 707us/step - loss: 0.5577 - accuracy: 0.7135\n",
      "Epoch 98/160\n",
      "24/24 [==============================] - 0s 1ms/step - loss: 0.5543 - accuracy: 0.7253\n",
      "Epoch 99/160\n",
      "24/24 [==============================] - 0s 3ms/step - loss: 0.5541 - accuracy: 0.7344\n",
      "Epoch 100/160\n",
      "24/24 [==============================] - 0s 1ms/step - loss: 0.5382 - accuracy: 0.7279\n",
      "Epoch 101/160\n",
      "24/24 [==============================] - 0s 886us/step - loss: 0.5390 - accuracy: 0.7461\n",
      "Epoch 102/160\n",
      "24/24 [==============================] - 0s 1ms/step - loss: 0.5366 - accuracy: 0.7331\n",
      "Epoch 103/160\n",
      "24/24 [==============================] - 0s 2ms/step - loss: 0.5424 - accuracy: 0.7396\n",
      "Epoch 104/160\n",
      "24/24 [==============================] - 0s 3ms/step - loss: 0.5533 - accuracy: 0.7422\n",
      "Epoch 105/160\n",
      "24/24 [==============================] - 0s 3ms/step - loss: 0.5741 - accuracy: 0.7240\n",
      "Epoch 106/160\n",
      "24/24 [==============================] - 0s 3ms/step - loss: 0.5494 - accuracy: 0.7292\n",
      "Epoch 107/160\n",
      "24/24 [==============================] - 0s 2ms/step - loss: 0.5497 - accuracy: 0.7305\n",
      "Epoch 108/160\n",
      "24/24 [==============================] - 0s 1ms/step - loss: 0.5661 - accuracy: 0.7005\n",
      "Epoch 109/160\n",
      "24/24 [==============================] - 0s 1ms/step - loss: 0.5409 - accuracy: 0.7266\n",
      "Epoch 110/160\n",
      "24/24 [==============================] - 0s 2ms/step - loss: 0.5475 - accuracy: 0.7214\n",
      "Epoch 111/160\n",
      "24/24 [==============================] - 0s 796us/step - loss: 0.5360 - accuracy: 0.7357\n",
      "Epoch 112/160\n",
      "24/24 [==============================] - 0s 878us/step - loss: 0.5336 - accuracy: 0.7266\n",
      "Epoch 113/160\n",
      "24/24 [==============================] - 0s 1ms/step - loss: 0.5324 - accuracy: 0.7279\n",
      "Epoch 114/160\n",
      "24/24 [==============================] - 0s 2ms/step - loss: 0.5447 - accuracy: 0.7344\n",
      "Epoch 115/160\n",
      "24/24 [==============================] - 0s 887us/step - loss: 0.5484 - accuracy: 0.7279\n",
      "Epoch 116/160\n",
      "24/24 [==============================] - 0s 1ms/step - loss: 0.5375 - accuracy: 0.7331\n",
      "Epoch 117/160\n",
      "24/24 [==============================] - 0s 3ms/step - loss: 0.5264 - accuracy: 0.7487\n",
      "Epoch 118/160\n",
      "24/24 [==============================] - 0s 1ms/step - loss: 0.5451 - accuracy: 0.7396\n",
      "Epoch 119/160\n",
      "24/24 [==============================] - 0s 872us/step - loss: 0.5329 - accuracy: 0.7357\n",
      "Epoch 120/160\n",
      "24/24 [==============================] - 0s 1ms/step - loss: 0.5317 - accuracy: 0.7227\n",
      "Epoch 121/160\n",
      "24/24 [==============================] - 0s 1ms/step - loss: 0.5230 - accuracy: 0.7344\n",
      "Epoch 122/160\n",
      "24/24 [==============================] - 0s 870us/step - loss: 0.5359 - accuracy: 0.7292\n",
      "Epoch 123/160\n",
      "24/24 [==============================] - 0s 907us/step - loss: 0.5343 - accuracy: 0.7331\n",
      "Epoch 124/160\n",
      "24/24 [==============================] - 0s 1ms/step - loss: 0.5331 - accuracy: 0.7383\n",
      "Epoch 125/160\n",
      "24/24 [==============================] - 0s 2ms/step - loss: 0.5318 - accuracy: 0.7135\n",
      "Epoch 126/160\n",
      "24/24 [==============================] - 0s 2ms/step - loss: 0.5316 - accuracy: 0.7292\n",
      "Epoch 127/160\n",
      "24/24 [==============================] - 0s 2ms/step - loss: 0.5248 - accuracy: 0.7513\n",
      "Epoch 128/160\n",
      "24/24 [==============================] - 0s 2ms/step - loss: 0.5209 - accuracy: 0.7370\n",
      "Epoch 129/160\n",
      "24/24 [==============================] - 0s 819us/step - loss: 0.5202 - accuracy: 0.7487\n",
      "Epoch 130/160\n",
      "24/24 [==============================] - 0s 1ms/step - loss: 0.5342 - accuracy: 0.7500\n",
      "Epoch 131/160\n",
      "24/24 [==============================] - 0s 2ms/step - loss: 0.5434 - accuracy: 0.7357\n",
      "Epoch 132/160\n",
      "24/24 [==============================] - 0s 1ms/step - loss: 0.5219 - accuracy: 0.7409\n",
      "Epoch 133/160\n",
      "24/24 [==============================] - 0s 2ms/step - loss: 0.5202 - accuracy: 0.7448\n",
      "Epoch 134/160\n",
      "24/24 [==============================] - 0s 2ms/step - loss: 0.5181 - accuracy: 0.7409\n",
      "Epoch 135/160\n",
      "24/24 [==============================] - 0s 3ms/step - loss: 0.5128 - accuracy: 0.7461\n",
      "Epoch 136/160\n",
      "24/24 [==============================] - 0s 2ms/step - loss: 0.5347 - accuracy: 0.7383\n",
      "Epoch 137/160\n",
      "24/24 [==============================] - 0s 742us/step - loss: 0.5313 - accuracy: 0.7409\n",
      "Epoch 138/160\n",
      "24/24 [==============================] - 0s 2ms/step - loss: 0.5374 - accuracy: 0.7279\n",
      "Epoch 139/160\n",
      "24/24 [==============================] - 0s 944us/step - loss: 0.5190 - accuracy: 0.7422\n",
      "Epoch 140/160\n",
      "24/24 [==============================] - 0s 1ms/step - loss: 0.5105 - accuracy: 0.7487\n",
      "Epoch 141/160\n",
      "24/24 [==============================] - 0s 1ms/step - loss: 0.5122 - accuracy: 0.7461\n",
      "Epoch 142/160\n",
      "24/24 [==============================] - 0s 3ms/step - loss: 0.5175 - accuracy: 0.7474\n",
      "Epoch 143/160\n",
      "24/24 [==============================] - 0s 2ms/step - loss: 0.5155 - accuracy: 0.7565\n",
      "Epoch 144/160\n",
      "24/24 [==============================] - 0s 766us/step - loss: 0.5221 - accuracy: 0.7305\n",
      "Epoch 145/160\n",
      "24/24 [==============================] - 0s 1ms/step - loss: 0.5174 - accuracy: 0.7396\n",
      "Epoch 146/160\n",
      "24/24 [==============================] - 0s 2ms/step - loss: 0.5176 - accuracy: 0.7565\n",
      "Epoch 147/160\n",
      "24/24 [==============================] - 0s 2ms/step - loss: 0.5187 - accuracy: 0.7435\n",
      "Epoch 148/160\n",
      "24/24 [==============================] - 0s 2ms/step - loss: 0.5370 - accuracy: 0.7422\n",
      "Epoch 149/160\n",
      "24/24 [==============================] - 0s 1ms/step - loss: 0.5193 - accuracy: 0.7409\n",
      "Epoch 150/160\n",
      "24/24 [==============================] - 0s 884us/step - loss: 0.5172 - accuracy: 0.7487\n",
      "Epoch 151/160\n",
      "24/24 [==============================] - 0s 1ms/step - loss: 0.5110 - accuracy: 0.7474\n",
      "Epoch 152/160\n",
      "24/24 [==============================] - 0s 1ms/step - loss: 0.5234 - accuracy: 0.7435\n",
      "Epoch 153/160\n",
      "24/24 [==============================] - 0s 2ms/step - loss: 0.5094 - accuracy: 0.7344\n",
      "Epoch 154/160\n",
      "24/24 [==============================] - 0s 2ms/step - loss: 0.5153 - accuracy: 0.7630\n",
      "Epoch 155/160\n",
      "24/24 [==============================] - 0s 2ms/step - loss: 0.5112 - accuracy: 0.7448\n",
      "Epoch 156/160\n",
      "24/24 [==============================] - 0s 2ms/step - loss: 0.5114 - accuracy: 0.7526\n",
      "Epoch 157/160\n",
      "24/24 [==============================] - 0s 2ms/step - loss: 0.5192 - accuracy: 0.7461\n",
      "Epoch 158/160\n",
      "24/24 [==============================] - 0s 1ms/step - loss: 0.5097 - accuracy: 0.7435\n",
      "Epoch 159/160\n",
      "24/24 [==============================] - 0s 2ms/step - loss: 0.5147 - accuracy: 0.7539\n",
      "Epoch 160/160\n",
      "24/24 [==============================] - 0s 2ms/step - loss: 0.5074 - accuracy: 0.7500\n"
     ]
    },
    {
     "data": {
      "text/plain": [
       "<tensorflow.python.keras.callbacks.History at 0x1d4ba06da00>"
      ]
     },
     "execution_count": 19,
     "metadata": {},
     "output_type": "execute_result"
    }
   ],
   "source": [
    "model.fit(X, y, epochs=160)"
   ]
  },
  {
   "cell_type": "code",
   "execution_count": 20,
   "id": "surgical-parts",
   "metadata": {},
   "outputs": [],
   "source": [
    "model.save(\"dia_model.h5\")"
   ]
  },
  {
   "cell_type": "code",
   "execution_count": null,
   "id": "weird-glenn",
   "metadata": {},
   "outputs": [],
   "source": []
  }
 ],
 "metadata": {
  "kernelspec": {
   "display_name": "Python 3",
   "language": "python",
   "name": "python3"
  },
  "language_info": {
   "codemirror_mode": {
    "name": "ipython",
    "version": 3
   },
   "file_extension": ".py",
   "mimetype": "text/x-python",
   "name": "python",
   "nbconvert_exporter": "python",
   "pygments_lexer": "ipython3",
   "version": "3.8.8"
  }
 },
 "nbformat": 4,
 "nbformat_minor": 5
}
